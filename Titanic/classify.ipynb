{
 "cells": [
  {
   "cell_type": "code",
   "execution_count": 2,
   "metadata": {
    "collapsed": true
   },
   "outputs": [],
   "source": [
    "import random\n",
    "import pandas\n",
    "import numpy as np\n",
    "from sklearn import metrics, cross_validation\n",
    "\n",
    "import tensorflow as tf\n",
    "from tensorflow.contrib import layers\n",
    "from tensorflow.contrib import learn\n"
   ]
  },
  {
   "cell_type": "markdown",
   "metadata": {},
   "source": [
    "## Read Data\n",
    "\n",
    "- Read CSV file and print out 5 random examples"
   ]
  },
  {
   "cell_type": "code",
   "execution_count": 3,
   "metadata": {
    "collapsed": false
   },
   "outputs": [
    {
     "data": {
      "text/html": [
       "<div>\n",
       "<table border=\"1\" class=\"dataframe\">\n",
       "  <thead>\n",
       "    <tr style=\"text-align: right;\">\n",
       "      <th></th>\n",
       "      <th>survived</th>\n",
       "      <th>pclass</th>\n",
       "      <th>name</th>\n",
       "      <th>sex</th>\n",
       "      <th>age</th>\n",
       "      <th>sibsp</th>\n",
       "      <th>parch</th>\n",
       "      <th>ticket</th>\n",
       "      <th>fare</th>\n",
       "    </tr>\n",
       "  </thead>\n",
       "  <tbody>\n",
       "    <tr>\n",
       "      <th>837</th>\n",
       "      <td>0</td>\n",
       "      <td>3</td>\n",
       "      <td>Gustafsson, Mr. Anders Vilhelm</td>\n",
       "      <td>male</td>\n",
       "      <td>37.0</td>\n",
       "      <td>2</td>\n",
       "      <td>0</td>\n",
       "      <td>3101276</td>\n",
       "      <td>7.9250</td>\n",
       "    </tr>\n",
       "    <tr>\n",
       "      <th>32</th>\n",
       "      <td>1</td>\n",
       "      <td>1</td>\n",
       "      <td>Bonnell, Miss. Caroline</td>\n",
       "      <td>female</td>\n",
       "      <td>30.0</td>\n",
       "      <td>0</td>\n",
       "      <td>0</td>\n",
       "      <td>36928</td>\n",
       "      <td>164.8667</td>\n",
       "    </tr>\n",
       "    <tr>\n",
       "      <th>360</th>\n",
       "      <td>1</td>\n",
       "      <td>2</td>\n",
       "      <td>Caldwell, Mr. Albert Francis</td>\n",
       "      <td>male</td>\n",
       "      <td>26.0</td>\n",
       "      <td>1</td>\n",
       "      <td>1</td>\n",
       "      <td>248738</td>\n",
       "      <td>29.0000</td>\n",
       "    </tr>\n",
       "    <tr>\n",
       "      <th>292</th>\n",
       "      <td>1</td>\n",
       "      <td>1</td>\n",
       "      <td>Taylor, Mr. Elmer Zebley</td>\n",
       "      <td>male</td>\n",
       "      <td>48.0</td>\n",
       "      <td>1</td>\n",
       "      <td>0</td>\n",
       "      <td>19996</td>\n",
       "      <td>52.0000</td>\n",
       "    </tr>\n",
       "    <tr>\n",
       "      <th>964</th>\n",
       "      <td>0</td>\n",
       "      <td>3</td>\n",
       "      <td>Lester, Mr. James</td>\n",
       "      <td>male</td>\n",
       "      <td>39.0</td>\n",
       "      <td>0</td>\n",
       "      <td>0</td>\n",
       "      <td>A/4 48871</td>\n",
       "      <td>24.1500</td>\n",
       "    </tr>\n",
       "  </tbody>\n",
       "</table>\n",
       "</div>"
      ],
      "text/plain": [
       "     survived  pclass                            name     sex   age  sibsp  \\\n",
       "837         0       3  Gustafsson, Mr. Anders Vilhelm    male  37.0      2   \n",
       "32          1       1         Bonnell, Miss. Caroline  female  30.0      0   \n",
       "360         1       2    Caldwell, Mr. Albert Francis    male  26.0      1   \n",
       "292         1       1        Taylor, Mr. Elmer Zebley    male  48.0      1   \n",
       "964         0       3               Lester, Mr. James    male  39.0      0   \n",
       "\n",
       "     parch     ticket      fare  \n",
       "837      0    3101276    7.9250  \n",
       "32       0      36928  164.8667  \n",
       "360      1     248738   29.0000  \n",
       "292      0      19996   52.0000  \n",
       "964      0  A/4 48871   24.1500  "
      ]
     },
     "execution_count": 3,
     "metadata": {},
     "output_type": "execute_result"
    }
   ],
   "source": [
    "random.seed(42)\n",
    "\n",
    "data = pandas.read_csv('titanic_dataset.csv')\n",
    "rows = random.sample(data.index, 5)\n",
    "\n",
    "data.ix[rows]"
   ]
  },
  {
   "cell_type": "markdown",
   "metadata": {},
   "source": [
    "## Preprocess Data\n",
    "\n",
    "- Removed name and ticket ID as they won't help much in prediction"
   ]
  },
  {
   "cell_type": "code",
   "execution_count": 4,
   "metadata": {
    "collapsed": true
   },
   "outputs": [],
   "source": [
    "def preprocess(data):\n",
    "    train = data.drop(['survived', 'name', 'ticket'], axis=1).values\n",
    "   \n",
    "    for i in range(len(train)):\n",
    "        train[i][1] = 1. if train[i][1] == 'female' else 0.\n",
    "  \n",
    "    return train"
   ]
  },
  {
   "cell_type": "code",
   "execution_count": 5,
   "metadata": {
    "collapsed": true
   },
   "outputs": [],
   "source": [
    "#Prepare training data\n",
    "x_train  = preprocess(data)\n",
    "y_train = data['survived']"
   ]
  },
  {
   "cell_type": "markdown",
   "metadata": {},
   "source": [
    "## Define and train the model"
   ]
  },
  {
   "cell_type": "code",
   "execution_count": 6,
   "metadata": {
    "collapsed": false
   },
   "outputs": [
    {
     "name": "stderr",
     "output_type": "stream",
     "text": [
      "WARNING:tensorflow:Setting feature info to TensorSignature(dtype=tf.float32, shape=TensorShape([Dimension(None), Dimension(6)]), is_sparse=False)\n",
      "WARNING:tensorflow:Setting targets info to TensorSignature(dtype=tf.int64, shape=TensorShape([Dimension(None)]), is_sparse=False)\n"
     ]
    },
    {
     "data": {
      "text/plain": [
       "LinearClassifier()"
      ]
     },
     "execution_count": 6,
     "metadata": {},
     "output_type": "execute_result"
    }
   ],
   "source": [
    "classifier = learn.LinearClassifier(n_classes=2, \n",
    "                                    feature_columns=learn.infer_real_valued_columns_from_input(x_train), \n",
    "                                    optimizer=tf.train.GradientDescentOptimizer(learning_rate=0.05),\n",
    "                                   model_dir='model')\n",
    "\n",
    "classifier.fit(x_train, y_train, batch_size=128, steps=500)\n"
   ]
  },
  {
   "cell_type": "markdown",
   "metadata": {},
   "source": [
    "## Let's Predict if the survival chances of our beloved Rose & Jack !!\n",
    "\n",
    "**Jack** , **19** year old, is **male**, a **3rd** class ticket holder and let's say his ticket fare is **$5**.\n",
    "No Siblings, spouse nor parents aboard.\n",
    "\n",
    "**Rose** , **17** year old, is **female**, a 1st class passenger who holds an expensive **$100** ticket.\n",
    "Rose's parents and fiance are aboard.\n",
    "\n",
    "Let's predict the survival of Cal too!\n",
    "**Cal** , Rose's **fiance**, is **30** year old, **male**, **1st class** passenger and holds **$100** ticket."
   ]
  },
  {
   "cell_type": "code",
   "execution_count": 7,
   "metadata": {
    "collapsed": false
   },
   "outputs": [
    {
     "name": "stdout",
     "output_type": "stream",
     "text": [
      "Will Jack Survive? No\n",
      "Will Rose Survive? Yes\n",
      "Will Cal Survive? Yes\n",
      "\n",
      "Jack's Surviving Chance: 0.003317%\n",
      "Rose's Surviving Chance: 100.000000%\n",
      "Cal's Surviving Chance: 99.974340%\n"
     ]
    }
   ],
   "source": [
    "#class, gender, age, sibling/spouse, parents, fare\n",
    "Jack = [3,0.0, 19, 0, 0, 5.0000]\n",
    "Rose = [1, 1.0, 17, 1, 2, 100.0000]\n",
    "Cal = [1, 0.0, 30, 1, 0, 100.0]\n",
    "\n",
    "test = np.array([Jack, Rose, Cal])\n",
    "pred = classifier.predict(test)\n",
    "prob = classifier.predict_proba(test)\n",
    "\n",
    "answer = ['No', 'Yes']\n",
    "print(\"Will Jack Survive? %s\" % answer[pred[0]])\n",
    "print(\"Will Rose Survive? %s\" % answer[pred[1]])\n",
    "print(\"Will Cal Survive? %s\" % answer[pred[2]])\n",
    "\n",
    "print(\"\\nJack's Surviving Chance: %f%%\" % (prob[0][1]*100))\n",
    "print(\"Rose's Surviving Chance: %f%%\" % (prob[1][1]*100))\n",
    "print(\"Cal's Surviving Chance: %f%%\" % (prob[2][1]*100))"
   ]
  }
 ],
 "metadata": {
  "kernelspec": {
   "display_name": "Python 2",
   "language": "python",
   "name": "python2"
  },
  "language_info": {
   "codemirror_mode": {
    "name": "ipython",
    "version": 2
   },
   "file_extension": ".py",
   "mimetype": "text/x-python",
   "name": "python",
   "nbconvert_exporter": "python",
   "pygments_lexer": "ipython2",
   "version": "2.7.10"
  }
 },
 "nbformat": 4,
 "nbformat_minor": 1
}
