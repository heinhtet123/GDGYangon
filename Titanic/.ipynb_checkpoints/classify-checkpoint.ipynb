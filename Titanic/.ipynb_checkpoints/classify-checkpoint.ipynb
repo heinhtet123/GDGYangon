{
 "cells": [
  {
   "cell_type": "code",
   "execution_count": 2,
   "metadata": {
    "collapsed": true
   },
   "outputs": [],
   "source": [
    "import random\n",
    "import pandas\n",
    "import numpy as np\n",
    "from sklearn import metrics, cross_validation\n",
    "\n",
    "import tensorflow as tf\n",
    "from tensorflow.contrib import layers\n",
    "from tensorflow.contrib import learn\n"
   ]
  },
  {
   "cell_type": "code",
   "execution_count": 4,
   "metadata": {
    "collapsed": false
   },
   "outputs": [
    {
     "name": "stdout",
     "output_type": "stream",
     "text": [
      "Index([u'survived', u'pclass', u'name', u'sex', u'age', u'sibsp', u'parch',\n",
      "       u'ticket', u'fare'],\n",
      "      dtype='object')\n"
     ]
    },
    {
     "data": {
      "text/html": [
       "<div>\n",
       "<table border=\"1\" class=\"dataframe\">\n",
       "  <thead>\n",
       "    <tr style=\"text-align: right;\">\n",
       "      <th></th>\n",
       "      <th>survived</th>\n",
       "      <th>pclass</th>\n",
       "      <th>name</th>\n",
       "      <th>sex</th>\n",
       "      <th>age</th>\n",
       "      <th>sibsp</th>\n",
       "      <th>parch</th>\n",
       "      <th>ticket</th>\n",
       "      <th>fare</th>\n",
       "    </tr>\n",
       "  </thead>\n",
       "  <tbody>\n",
       "    <tr>\n",
       "      <th>0</th>\n",
       "      <td>1</td>\n",
       "      <td>1</td>\n",
       "      <td>Allen, Miss. Elisabeth Walton</td>\n",
       "      <td>female</td>\n",
       "      <td>29.0000</td>\n",
       "      <td>0</td>\n",
       "      <td>0</td>\n",
       "      <td>24160</td>\n",
       "      <td>211.3375</td>\n",
       "    </tr>\n",
       "    <tr>\n",
       "      <th>1</th>\n",
       "      <td>1</td>\n",
       "      <td>1</td>\n",
       "      <td>Allison, Master. Hudson Trevor</td>\n",
       "      <td>male</td>\n",
       "      <td>0.9167</td>\n",
       "      <td>1</td>\n",
       "      <td>2</td>\n",
       "      <td>113781</td>\n",
       "      <td>151.5500</td>\n",
       "    </tr>\n",
       "    <tr>\n",
       "      <th>2</th>\n",
       "      <td>0</td>\n",
       "      <td>1</td>\n",
       "      <td>Allison, Miss. Helen Loraine</td>\n",
       "      <td>female</td>\n",
       "      <td>2.0000</td>\n",
       "      <td>1</td>\n",
       "      <td>2</td>\n",
       "      <td>113781</td>\n",
       "      <td>151.5500</td>\n",
       "    </tr>\n",
       "    <tr>\n",
       "      <th>3</th>\n",
       "      <td>0</td>\n",
       "      <td>1</td>\n",
       "      <td>Allison, Mr. Hudson Joshua Creighton</td>\n",
       "      <td>male</td>\n",
       "      <td>30.0000</td>\n",
       "      <td>1</td>\n",
       "      <td>2</td>\n",
       "      <td>113781</td>\n",
       "      <td>151.5500</td>\n",
       "    </tr>\n",
       "    <tr>\n",
       "      <th>4</th>\n",
       "      <td>0</td>\n",
       "      <td>1</td>\n",
       "      <td>Allison, Mrs. Hudson J C (Bessie Waldo Daniels)</td>\n",
       "      <td>female</td>\n",
       "      <td>25.0000</td>\n",
       "      <td>1</td>\n",
       "      <td>2</td>\n",
       "      <td>113781</td>\n",
       "      <td>151.5500</td>\n",
       "    </tr>\n",
       "  </tbody>\n",
       "</table>\n",
       "</div>"
      ],
      "text/plain": [
       "   survived  pclass                                             name     sex  \\\n",
       "0         1       1                    Allen, Miss. Elisabeth Walton  female   \n",
       "1         1       1                   Allison, Master. Hudson Trevor    male   \n",
       "2         0       1                     Allison, Miss. Helen Loraine  female   \n",
       "3         0       1             Allison, Mr. Hudson Joshua Creighton    male   \n",
       "4         0       1  Allison, Mrs. Hudson J C (Bessie Waldo Daniels)  female   \n",
       "\n",
       "       age  sibsp  parch  ticket      fare  \n",
       "0  29.0000      0      0   24160  211.3375  \n",
       "1   0.9167      1      2  113781  151.5500  \n",
       "2   2.0000      1      2  113781  151.5500  \n",
       "3  30.0000      1      2  113781  151.5500  \n",
       "4  25.0000      1      2  113781  151.5500  "
      ]
     },
     "execution_count": 4,
     "metadata": {},
     "output_type": "execute_result"
    }
   ],
   "source": [
    "random.seed(42)\n",
    "\n",
    "data = pandas.read_csv('titanic_dataset.csv')\n",
    "print(data.columns)\n",
    "data[:5]"
   ]
  },
  {
   "cell_type": "markdown",
   "metadata": {},
   "source": [
    "## Preprocess Data"
   ]
  },
  {
   "cell_type": "code",
   "execution_count": 81,
   "metadata": {
    "collapsed": true
   },
   "outputs": [],
   "source": [
    "def preprocess(data):\n",
    "    train = data.drop(['survived', 'name', 'ticket'], axis=1).values\n",
    "   \n",
    "    for i in range(len(train)):\n",
    "        train[i][1] = 1. if train[i][1] == 'female' else 0.\n",
    "  \n",
    "    return train"
   ]
  },
  {
   "cell_type": "code",
   "execution_count": 94,
   "metadata": {
    "collapsed": false
   },
   "outputs": [
    {
     "name": "stderr",
     "output_type": "stream",
     "text": [
      "WARNING:tensorflow:Setting feature info to TensorSignature(dtype=tf.float32, shape=TensorShape([Dimension(None), Dimension(6)]), is_sparse=False)\n",
      "WARNING:tensorflow:Setting targets info to TensorSignature(dtype=tf.int64, shape=TensorShape([Dimension(None)]), is_sparse=False)\n"
     ]
    },
    {
     "name": "stdout",
     "output_type": "stream",
     "text": [
      "Will Jack Survive? No\n",
      "Will Rose Survive? Yes\n",
      "\n",
      "Jack's Surviving Chance: 0.976549%\n",
      "Rose's Surviving Chance: 100.000000%\n"
     ]
    }
   ],
   "source": [
    "\n",
    "x_train  = preprocess(data)\n",
    "y_train = data['survived']\n",
    "\n",
    "\n",
    "classifier = learn.LinearClassifier(n_classes=2, \n",
    "                                    feature_columns=learn.infer_real_valued_columns_from_input(x_train), \n",
    "                                    optimizer=tf.train.GradientDescentOptimizer(learning_rate=0.05),\n",
    "                                   model_dir='.')\n",
    "\n",
    "classifier.fit(x_train, y_train, batch_size=128, steps=500)\n",
    "\n",
    "#class, gender, age, sibling, parents, fare\n",
    "Jack = [3,0.0, 19, 0, 0, 5.0000]\n",
    "Rose = [1, 1.0, 17, 1, 2, 100.0000]\n",
    "\n",
    "pred = classifier.predict(np.array([dicaprio, winslet]))\n",
    "prob = classifier.predict_proba(np.array([Jack, Rose]))\n",
    "\n",
    "answer = ['No', 'Yes']\n",
    "print(\"Will Jack Survive? %s\" % answer[pred[0]])\n",
    "print(\"Will Rose Survive? %s\" % answer[pred[1]])\n",
    "\n",
    "print(\"\\nJack's Surviving Chance: %f%%\" % (prob[0][1]*100))\n",
    "print(\"Rose's Surviving Chance: %f%%\" % (prob[1][1]*100))"
   ]
  }
 ],
 "metadata": {
  "kernelspec": {
   "display_name": "Python 2",
   "language": "python",
   "name": "python2"
  },
  "language_info": {
   "codemirror_mode": {
    "name": "ipython",
    "version": 2
   },
   "file_extension": ".py",
   "mimetype": "text/x-python",
   "name": "python",
   "nbconvert_exporter": "python",
   "pygments_lexer": "ipython2",
   "version": "2.7.10"
  }
 },
 "nbformat": 4,
 "nbformat_minor": 1
}
